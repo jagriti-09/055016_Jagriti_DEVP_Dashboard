{
 "cells": [
  {
   "cell_type": "code",
   "execution_count": 13,
   "id": "febb7aec-deb4-4bd4-be63-1557ddd937c7",
   "metadata": {},
   "outputs": [],
   "source": [
    "# Import libraries\n",
    "import streamlit as st\n",
    "import pandas as pd\n",
    "import altair as alt\n",
    "import plotly.express as px\n",
    "from IPython.core.display import HTML"
   ]
  },
  {
   "cell_type": "code",
   "execution_count": 15,
   "id": "06f23680-1ddd-42dd-85cb-84ff00753c5c",
   "metadata": {},
   "outputs": [],
   "source": [
    "# Page configuration\n",
    "st.set_page_config(\n",
    "    page_title=\"Import-Export Dashboard\",\n",
    "    page_icon=\"📦\",\n",
    "    layout=\"wide\",\n",
    "    initial_sidebar_state=\"expanded\")"
   ]
  },
  {
   "cell_type": "code",
   "execution_count": 17,
   "id": "0d91cad4-f35e-4d32-9bfe-fb6ba087a085",
   "metadata": {},
   "outputs": [],
   "source": [
    "page_bg_color = \"\"\"\n",
    "    <style>\n",
    "    body {\n",
    "        background-color: #e8f5e9;\n",
    "    }\n",
    "    .metric-container {\n",
    "        display: flex;\n",
    "        justify-content: space-between;\n",
    "    }\n",
    "    .metric-box {\n",
    "        padding: 15px;\n",
    "        margin: 5px;\n",
    "        border-radius: 10px;\n",
    "        background-color: #ffffff;\n",
    "        box-shadow: 2px 2px 8px rgba(0, 0, 0, 0.1);\n",
    "        text-align: center;\n",
    "    }\n",
    "    .metric-title {\n",
    "        font-size: 16px;\n",
    "        font-weight: bold;\n",
    "        color: #333333;\n",
    "    }\n",
    "    .metric-value {\n",
    "        font-size: 20px;\n",
    "        color: #007bff;\n",
    "    }\n",
    "    .metric-delta {\n",
    "        color: #ff6b6b;\n",
    "    }\n",
    "    </style>\n",
    "\"\"\""
   ]
  },
  {
   "cell_type": "code",
   "execution_count": 19,
   "id": "42c380d7-f541-4528-9bca-373e2585f913",
   "metadata": {},
   "outputs": [
    {
     "data": {
      "text/plain": [
       "ThemeRegistry.enable('dark')"
      ]
     },
     "execution_count": 19,
     "metadata": {},
     "output_type": "execute_result"
    }
   ],
   "source": [
    "st.markdown(page_bg_color, unsafe_allow_html=True)\n",
    "\n",
    "alt.themes.enable(\"dark\")"
   ]
  },
  {
   "cell_type": "code",
   "execution_count": 21,
   "id": "dc05f607-0712-49f4-b1b3-8de65a36ddd6",
   "metadata": {},
   "outputs": [
    {
     "data": {
      "text/html": [
       "<div>\n",
       "<style scoped>\n",
       "    .dataframe tbody tr th:only-of-type {\n",
       "        vertical-align: middle;\n",
       "    }\n",
       "\n",
       "    .dataframe tbody tr th {\n",
       "        vertical-align: top;\n",
       "    }\n",
       "\n",
       "    .dataframe thead th {\n",
       "        text-align: right;\n",
       "    }\n",
       "</style>\n",
       "<table border=\"1\" class=\"dataframe\">\n",
       "  <thead>\n",
       "    <tr style=\"text-align: right;\">\n",
       "      <th></th>\n",
       "      <th>Transaction_ID</th>\n",
       "      <th>Country</th>\n",
       "      <th>Product</th>\n",
       "      <th>Import_Export</th>\n",
       "      <th>Quantity</th>\n",
       "      <th>Value</th>\n",
       "      <th>Date</th>\n",
       "      <th>Category</th>\n",
       "      <th>Port</th>\n",
       "      <th>Customs_Code</th>\n",
       "      <th>Weight</th>\n",
       "      <th>Shipping_Method</th>\n",
       "      <th>Supplier</th>\n",
       "      <th>Customer</th>\n",
       "      <th>Invoice_Number</th>\n",
       "      <th>Payment_Terms</th>\n",
       "    </tr>\n",
       "  </thead>\n",
       "  <tbody>\n",
       "    <tr>\n",
       "      <th>0</th>\n",
       "      <td>e3e70682-c209-4cac-a29f-6fbed82c07cd</td>\n",
       "      <td>Colombia</td>\n",
       "      <td>describe</td>\n",
       "      <td>Export</td>\n",
       "      <td>1979</td>\n",
       "      <td>9506.57</td>\n",
       "      <td>07-12-2023</td>\n",
       "      <td>Machinery</td>\n",
       "      <td>Robertbury</td>\n",
       "      <td>620537</td>\n",
       "      <td>4248.65</td>\n",
       "      <td>Air</td>\n",
       "      <td>Garrison, Hubbard and Hendricks</td>\n",
       "      <td>Seth Hall</td>\n",
       "      <td>21000294</td>\n",
       "      <td>Cash on Delivery</td>\n",
       "    </tr>\n",
       "    <tr>\n",
       "      <th>1</th>\n",
       "      <td>f728b4fa-4248-4e3a-8a5d-2f346baa9455</td>\n",
       "      <td>Chile</td>\n",
       "      <td>president</td>\n",
       "      <td>Export</td>\n",
       "      <td>5763</td>\n",
       "      <td>7100.91</td>\n",
       "      <td>04-04-2023</td>\n",
       "      <td>Clothing</td>\n",
       "      <td>Shahport</td>\n",
       "      <td>927600</td>\n",
       "      <td>4340.81</td>\n",
       "      <td>Air</td>\n",
       "      <td>Webb-Mack</td>\n",
       "      <td>Kimberly Ryan</td>\n",
       "      <td>88738432</td>\n",
       "      <td>Prepaid</td>\n",
       "    </tr>\n",
       "    <tr>\n",
       "      <th>2</th>\n",
       "      <td>eb1167b3-67a9-4378-bc65-c1e582e2e662</td>\n",
       "      <td>Turkey</td>\n",
       "      <td>far</td>\n",
       "      <td>Import</td>\n",
       "      <td>5740</td>\n",
       "      <td>2450.34</td>\n",
       "      <td>21-08-2024</td>\n",
       "      <td>Electronics</td>\n",
       "      <td>South Joshuatown</td>\n",
       "      <td>299258</td>\n",
       "      <td>4538.41</td>\n",
       "      <td>Air</td>\n",
       "      <td>Mendez, Jones and Johnson</td>\n",
       "      <td>Ryan Silva</td>\n",
       "      <td>89922099</td>\n",
       "      <td>Prepaid</td>\n",
       "    </tr>\n",
       "    <tr>\n",
       "      <th>3</th>\n",
       "      <td>f7c1bd87-4da5-4709-9471-3d60c8a70639</td>\n",
       "      <td>Christmas Island</td>\n",
       "      <td>agency</td>\n",
       "      <td>Export</td>\n",
       "      <td>2592</td>\n",
       "      <td>7226.42</td>\n",
       "      <td>09-05-2022</td>\n",
       "      <td>Furniture</td>\n",
       "      <td>Adamfort</td>\n",
       "      <td>996084</td>\n",
       "      <td>4886.14</td>\n",
       "      <td>Air</td>\n",
       "      <td>Schroeder-Smith</td>\n",
       "      <td>Jacob Gray</td>\n",
       "      <td>63216265</td>\n",
       "      <td>Net 60</td>\n",
       "    </tr>\n",
       "    <tr>\n",
       "      <th>4</th>\n",
       "      <td>e443df78-9558-467f-9ba9-1faf7a024204</td>\n",
       "      <td>Finland</td>\n",
       "      <td>policy</td>\n",
       "      <td>Export</td>\n",
       "      <td>2622</td>\n",
       "      <td>2817.29</td>\n",
       "      <td>03-04-2023</td>\n",
       "      <td>Electronics</td>\n",
       "      <td>Juliebury</td>\n",
       "      <td>555981</td>\n",
       "      <td>4406.74</td>\n",
       "      <td>Air</td>\n",
       "      <td>Zimmerman LLC</td>\n",
       "      <td>Amy Stephens</td>\n",
       "      <td>94600248</td>\n",
       "      <td>Cash on Delivery</td>\n",
       "    </tr>\n",
       "    <tr>\n",
       "      <th>...</th>\n",
       "      <td>...</td>\n",
       "      <td>...</td>\n",
       "      <td>...</td>\n",
       "      <td>...</td>\n",
       "      <td>...</td>\n",
       "      <td>...</td>\n",
       "      <td>...</td>\n",
       "      <td>...</td>\n",
       "      <td>...</td>\n",
       "      <td>...</td>\n",
       "      <td>...</td>\n",
       "      <td>...</td>\n",
       "      <td>...</td>\n",
       "      <td>...</td>\n",
       "      <td>...</td>\n",
       "      <td>...</td>\n",
       "    </tr>\n",
       "    <tr>\n",
       "      <th>14995</th>\n",
       "      <td>48df15a8-0823-4964-8c16-eddf2756f382</td>\n",
       "      <td>Marshall Islands</td>\n",
       "      <td>not</td>\n",
       "      <td>Export</td>\n",
       "      <td>2860</td>\n",
       "      <td>2055.19</td>\n",
       "      <td>09-07-2024</td>\n",
       "      <td>Furniture</td>\n",
       "      <td>South Karenfort</td>\n",
       "      <td>393463</td>\n",
       "      <td>4120.35</td>\n",
       "      <td>Land</td>\n",
       "      <td>Smith-Lewis</td>\n",
       "      <td>Darlene Davis</td>\n",
       "      <td>29605073</td>\n",
       "      <td>Net 60</td>\n",
       "    </tr>\n",
       "    <tr>\n",
       "      <th>14996</th>\n",
       "      <td>31106617-94a6-4646-a001-5e7bd45abc26</td>\n",
       "      <td>Bermuda</td>\n",
       "      <td>air</td>\n",
       "      <td>Export</td>\n",
       "      <td>2443</td>\n",
       "      <td>6407.06</td>\n",
       "      <td>18-06-2024</td>\n",
       "      <td>Furniture</td>\n",
       "      <td>Jeffreyside</td>\n",
       "      <td>484143</td>\n",
       "      <td>1832.71</td>\n",
       "      <td>Air</td>\n",
       "      <td>Jones Group</td>\n",
       "      <td>John Ramos</td>\n",
       "      <td>39044695</td>\n",
       "      <td>Cash on Delivery</td>\n",
       "    </tr>\n",
       "    <tr>\n",
       "      <th>14997</th>\n",
       "      <td>ee485839-fbde-4ced-af18-d98f5e863081</td>\n",
       "      <td>Tanzania</td>\n",
       "      <td>show</td>\n",
       "      <td>Export</td>\n",
       "      <td>1702</td>\n",
       "      <td>9918.29</td>\n",
       "      <td>30-04-2020</td>\n",
       "      <td>Toys</td>\n",
       "      <td>North Meganborough</td>\n",
       "      <td>354935</td>\n",
       "      <td>4203.52</td>\n",
       "      <td>Land</td>\n",
       "      <td>Barnes-Romero</td>\n",
       "      <td>Rebecca Phelps</td>\n",
       "      <td>78492040</td>\n",
       "      <td>Net 30</td>\n",
       "    </tr>\n",
       "    <tr>\n",
       "      <th>14998</th>\n",
       "      <td>5acd54aa-ec8c-4055-be8b-a447861a471c</td>\n",
       "      <td>Tuvalu</td>\n",
       "      <td>TV</td>\n",
       "      <td>Export</td>\n",
       "      <td>8108</td>\n",
       "      <td>9288.57</td>\n",
       "      <td>29-04-2021</td>\n",
       "      <td>Clothing</td>\n",
       "      <td>Villafurt</td>\n",
       "      <td>234296</td>\n",
       "      <td>1597.72</td>\n",
       "      <td>Land</td>\n",
       "      <td>Smith, Allison and Bennett</td>\n",
       "      <td>Scott Yates</td>\n",
       "      <td>20799602</td>\n",
       "      <td>Cash on Delivery</td>\n",
       "    </tr>\n",
       "    <tr>\n",
       "      <th>14999</th>\n",
       "      <td>5cc039d0-a052-41fd-bfbb-c9f60c4565ac</td>\n",
       "      <td>North Macedonia</td>\n",
       "      <td>year</td>\n",
       "      <td>Import</td>\n",
       "      <td>5635</td>\n",
       "      <td>561.33</td>\n",
       "      <td>25-12-2019</td>\n",
       "      <td>Clothing</td>\n",
       "      <td>West Gary</td>\n",
       "      <td>766709</td>\n",
       "      <td>2913.82</td>\n",
       "      <td>Air</td>\n",
       "      <td>Fleming-Miles</td>\n",
       "      <td>Steven Young</td>\n",
       "      <td>79237293</td>\n",
       "      <td>Net 30</td>\n",
       "    </tr>\n",
       "  </tbody>\n",
       "</table>\n",
       "<p>15000 rows × 16 columns</p>\n",
       "</div>"
      ],
      "text/plain": [
       "                             Transaction_ID           Country    Product  \\\n",
       "0      e3e70682-c209-4cac-a29f-6fbed82c07cd          Colombia   describe   \n",
       "1      f728b4fa-4248-4e3a-8a5d-2f346baa9455             Chile  president   \n",
       "2      eb1167b3-67a9-4378-bc65-c1e582e2e662            Turkey        far   \n",
       "3      f7c1bd87-4da5-4709-9471-3d60c8a70639  Christmas Island     agency   \n",
       "4      e443df78-9558-467f-9ba9-1faf7a024204           Finland     policy   \n",
       "...                                     ...               ...        ...   \n",
       "14995  48df15a8-0823-4964-8c16-eddf2756f382  Marshall Islands        not   \n",
       "14996  31106617-94a6-4646-a001-5e7bd45abc26           Bermuda        air   \n",
       "14997  ee485839-fbde-4ced-af18-d98f5e863081          Tanzania       show   \n",
       "14998  5acd54aa-ec8c-4055-be8b-a447861a471c            Tuvalu         TV   \n",
       "14999  5cc039d0-a052-41fd-bfbb-c9f60c4565ac   North Macedonia       year   \n",
       "\n",
       "      Import_Export  Quantity    Value        Date     Category  \\\n",
       "0            Export      1979  9506.57  07-12-2023    Machinery   \n",
       "1            Export      5763  7100.91  04-04-2023     Clothing   \n",
       "2            Import      5740  2450.34  21-08-2024  Electronics   \n",
       "3            Export      2592  7226.42  09-05-2022    Furniture   \n",
       "4            Export      2622  2817.29  03-04-2023  Electronics   \n",
       "...             ...       ...      ...         ...          ...   \n",
       "14995        Export      2860  2055.19  09-07-2024    Furniture   \n",
       "14996        Export      2443  6407.06  18-06-2024    Furniture   \n",
       "14997        Export      1702  9918.29  30-04-2020         Toys   \n",
       "14998        Export      8108  9288.57  29-04-2021     Clothing   \n",
       "14999        Import      5635   561.33  25-12-2019     Clothing   \n",
       "\n",
       "                     Port  Customs_Code   Weight Shipping_Method  \\\n",
       "0              Robertbury        620537  4248.65             Air   \n",
       "1                Shahport        927600  4340.81             Air   \n",
       "2        South Joshuatown        299258  4538.41             Air   \n",
       "3                Adamfort        996084  4886.14             Air   \n",
       "4               Juliebury        555981  4406.74             Air   \n",
       "...                   ...           ...      ...             ...   \n",
       "14995     South Karenfort        393463  4120.35            Land   \n",
       "14996         Jeffreyside        484143  1832.71             Air   \n",
       "14997  North Meganborough        354935  4203.52            Land   \n",
       "14998           Villafurt        234296  1597.72            Land   \n",
       "14999           West Gary        766709  2913.82             Air   \n",
       "\n",
       "                              Supplier        Customer  Invoice_Number  \\\n",
       "0      Garrison, Hubbard and Hendricks       Seth Hall        21000294   \n",
       "1                            Webb-Mack   Kimberly Ryan        88738432   \n",
       "2            Mendez, Jones and Johnson      Ryan Silva        89922099   \n",
       "3                      Schroeder-Smith      Jacob Gray        63216265   \n",
       "4                        Zimmerman LLC    Amy Stephens        94600248   \n",
       "...                                ...             ...             ...   \n",
       "14995                      Smith-Lewis   Darlene Davis        29605073   \n",
       "14996                      Jones Group      John Ramos        39044695   \n",
       "14997                    Barnes-Romero  Rebecca Phelps        78492040   \n",
       "14998       Smith, Allison and Bennett     Scott Yates        20799602   \n",
       "14999                    Fleming-Miles    Steven Young        79237293   \n",
       "\n",
       "          Payment_Terms  \n",
       "0      Cash on Delivery  \n",
       "1               Prepaid  \n",
       "2               Prepaid  \n",
       "3                Net 60  \n",
       "4      Cash on Delivery  \n",
       "...                 ...  \n",
       "14995            Net 60  \n",
       "14996  Cash on Delivery  \n",
       "14997            Net 30  \n",
       "14998  Cash on Delivery  \n",
       "14999            Net 30  \n",
       "\n",
       "[15000 rows x 16 columns]"
      ]
     },
     "execution_count": 21,
     "metadata": {},
     "output_type": "execute_result"
    }
   ],
   "source": [
    "# Load data\n",
    "df = pd.read_csv(\"C:/Users/jagri/OneDrive/Desktop/Imports_Exports_Dataset.csv\")\n",
    "df"
   ]
  },
  {
   "cell_type": "code",
   "execution_count": 23,
   "id": "49db220d-1fad-4eb1-be3c-1a75e50d8a77",
   "metadata": {},
   "outputs": [],
   "source": [
    "# Sidebar\n",
    "with st.sidebar:\n",
    "    st.title('📦 Import-Export Dashboard')"
   ]
  },
  {
   "cell_type": "code",
   "execution_count": 27,
   "id": "1864f356-ea31-421a-a8a4-3b4adcaa5187",
   "metadata": {},
   "outputs": [],
   "source": [
    "# Filter by year\n",
    "df['Date'] = pd.to_datetime(df['Date'], errors='coerce')\n",
    "year_list = sorted(df['Date'].dt.year.unique(), reverse=True)\n",
    "selected_year = st.selectbox('Select a year', year_list)"
   ]
  },
  {
   "cell_type": "code",
   "execution_count": 33,
   "id": "8ad256e1-1e70-4a8b-a3ec-2c6432d5f357",
   "metadata": {},
   "outputs": [],
   "source": [
    "# Filter data based on selected year\n",
    "df_selected_year = df[df['Date'].dt.year == selected_year]"
   ]
  },
  {
   "cell_type": "code",
   "execution_count": 39,
   "id": "1db40eca-6b3a-4207-9c56-054067cdf020",
   "metadata": {},
   "outputs": [],
   "source": [
    "# Multi-select for country\n",
    "country_list = df['Country'].unique()\n",
    "selected_countries = st.multiselect('Select country(s)', country_list, default=country_list[:3])  # Default first 3\n",
    "\n",
    "# Ensure correct indentation here\n",
    "if selected_countries:\n",
    "    df_selected_year = df_selected_year[df_selected_year['Country'].isin(selected_countries)]"
   ]
  },
  {
   "cell_type": "code",
   "execution_count": 43,
   "id": "47aa082c-7268-4ba8-9657-d3b1b2764b93",
   "metadata": {},
   "outputs": [],
   "source": [
    " # Select color theme\n",
    "color_theme_list = ['blues', 'reds', 'greens', 'turbo', 'viridis']\n",
    "selected_color_theme = st.selectbox('Select a color theme', color_theme_list)"
   ]
  },
  {
   "cell_type": "code",
   "execution_count": 45,
   "id": "f0160596-919a-4b8e-a39f-c746446e3810",
   "metadata": {},
   "outputs": [],
   "source": [
    "# Helper Functions\n",
    "def format_value(val):\n",
    "    return f\"${val / 1e6:.1f}M\" if val > 1e6 else f\"${val / 1e3:.1f}K\""
   ]
  },
  {
   "cell_type": "code",
   "execution_count": 49,
   "id": "7da2edfa-bda8-4724-83f8-998feffcf926",
   "metadata": {},
   "outputs": [],
   "source": [
    "def calculate_transaction_difference(input_df, input_year):\n",
    "    selected_year_data = input_df[input_df['Date'].dt.year == input_year].reset_index()\n",
    "    previous_year_data = input_df[input_df['Date'].dt.year == input_year - 1].reset_index()\n",
    "    selected_year_data['value_difference'] = selected_year_data.Value.sub(previous_year_data.Value, fill_value=0)\n",
    "    return pd.concat([selected_year_data.Country, selected_year_data.Value, selected_year_data.value_difference], axis=1).sort_values(by=\"value_difference\", ascending=False)"
   ]
  },
  {
   "cell_type": "code",
   "execution_count": 53,
   "id": "d6fd95a0-ac82-43fb-9507-8e2539f50dbe",
   "metadata": {},
   "outputs": [
    {
     "data": {
      "text/plain": [
       "DeltaGenerator()"
      ]
     },
     "execution_count": 53,
     "metadata": {},
     "output_type": "execute_result"
    }
   ],
   "source": [
    "# Dashboard Main Panel\n",
    "st.markdown(\"<h1 style='text-align: center; color: #004d40;'>📦 Import-Export Transactions Dashboard</h1>\", unsafe_allow_html=True)\n",
    "st.markdown(\"<h4 style='text-align: center; color: #004d40;'>Comprehensive analysis of global trade flows by year and country</h4>\", unsafe_allow_html=True)\n",
    "\n",
    "\n",
    "st.markdown(\"<hr>\", unsafe_allow_html=True)"
   ]
  },
  {
   "cell_type": "code",
   "execution_count": 57,
   "id": "0efb9b47-e228-4607-9d23-137235566817",
   "metadata": {},
   "outputs": [],
   "source": [
    "# Display key metrics in card layout\n",
    "df_transaction_diff_sorted = calculate_transaction_difference(df, selected_year)\n",
    "\n",
    "first_country = df_transaction_diff_sorted.Country.iloc[0] if selected_year > df['Date'].dt.year.min() else '-'\n",
    "first_country_value = format_value(df_transaction_diff_sorted.Value.iloc[0])\n",
    "first_country_delta = format_value(df_transaction_diff_sorted.value_difference.iloc[0]) if selected_year > df['Date'].dt.year.min() else '-'\n",
    "\n",
    "last_country = df_transaction_diff_sorted.Country.iloc[-1] if selected_year > df['Date'].dt.year.min() else '-'\n",
    "last_country_value = format_value(df_transaction_diff_sorted.Value.iloc[-1])\n",
    "last_country_delta = format_value(df_transaction_diff_sorted.value_difference.iloc[-1]) if selected_year > df['Date'].dt.year.min() else '-'"
   ]
  },
  {
   "cell_type": "code",
   "execution_count": 59,
   "id": "e8606251-eccd-416f-b43c-c2a602078811",
   "metadata": {},
   "outputs": [
    {
     "data": {
      "text/plain": [
       "DeltaGenerator()"
      ]
     },
     "execution_count": 59,
     "metadata": {},
     "output_type": "execute_result"
    }
   ],
   "source": [
    "# Metrics in a card layout\n",
    "st.markdown(f\"\"\"\n",
    "<div class='metric-container'>\n",
    "    <div class='metric-box'>\n",
    "        <div class='metric-title'>Top Country by Value</div>\n",
    "        <div class='metric-value'>{first_country}</div>\n",
    "        <div class='metric-delta'>Difference: {first_country_delta}</div>\n",
    "    </div>\n",
    "    <div class='metric-box'>\n",
    "        <div class='metric-title'>Lowest Country by Value</div>\n",
    "        <div class='metric-value'>{last_country}</div>\n",
    "        <div class='metric-delta'>Difference: {last_country_delta}</div>\n",
    "    </div>\n",
    "</div>\n",
    "\"\"\", unsafe_allow_html=True)\n",
    "\n",
    "st.markdown(\"<hr>\", unsafe_allow_html=True)"
   ]
  },
  {
   "cell_type": "code",
   "execution_count": 61,
   "id": "9e920e93-1664-4ee8-b559-c19627078f21",
   "metadata": {},
   "outputs": [],
   "source": [
    "# New Insights Section\n",
    "st.markdown(\"### Key Insights:\")\n",
    "insight_1 = f\"*Top Country*: {first_country} had the highest transaction value of {first_country_value}, reflecting its dominance in the selected trade data.\"\n",
    "insight_2 = f\"*Bottom Country*: {last_country} had the lowest transaction value of {last_country_value}, indicating it contributed less to the overall trade.\"\n",
    "insight_3 = f\"The selected countries combined have seen varied growth across trade categories, with noticeable peaks and troughs across specific time frames.\"\n",
    "st.write(insight_1)\n",
    "st.write(insight_2)\n",
    "st.write(insight_3)"
   ]
  },
  {
   "cell_type": "code",
   "execution_count": 63,
   "id": "3c4a1144-9171-47d9-be77-50a95129d872",
   "metadata": {},
   "outputs": [],
   "source": [
    "# Additional Graphs Section\n",
    "col1, col2 = st.columns(2)\n",
    "\n",
    "with col1:\n",
    "    st.markdown('#### Top 10 Countries by Transaction Value')\n",
    "    \n",
    "    # Bar chart for top countries\n",
    "    top_10_countries = df_selected_year.groupby('Country')['Value'].sum().reset_index().sort_values(by='Value', ascending=False).head(10)\n",
    "    bar_chart = alt.Chart(top_10_countries).mark_bar().encode(\n",
    "        x=alt.X('Value:Q', title='Transaction Value'),\n",
    "        y=alt.Y('Country:N', sort='-x', title='Country'),\n",
    "        color=alt.Color('Country:N', scale=alt.Scale(scheme=selected_color_theme))\n",
    "    ).properties(width=600, height=400)\n",
    "    st.altair_chart(bar_chart, use_container_width=True)\n",
    "\n",
    "with col2:\n",
    "    st.markdown('#### Transactions Over Time')"
   ]
  },
  {
   "cell_type": "code",
   "execution_count": 65,
   "id": "3b73e2b5-7829-41e0-a6e7-ead960d54a96",
   "metadata": {},
   "outputs": [
    {
     "data": {
      "text/plain": [
       "DeltaGenerator()"
      ]
     },
     "execution_count": 65,
     "metadata": {},
     "output_type": "execute_result"
    }
   ],
   "source": [
    "# Line chart for transactions over time\n",
    "line_chart = alt.Chart(df_selected_year).mark_line().encode(\n",
    "x=alt.X('Date:T', axis=alt.Axis(title='Date')),\n",
    "y=alt.Y('Value:Q', axis=alt.Axis(title='Transaction Value')),\n",
    "color=alt.Color('Category:N', legend=alt.Legend(title=\"Category\"))\n",
    ").properties(width=600, height=400)\n",
    "st.altair_chart(line_chart, use_container_width=True)\n",
    "\n",
    "st.markdown(\"<hr>\", unsafe_allow_html=True)"
   ]
  },
  {
   "cell_type": "code",
   "execution_count": 67,
   "id": "567a392f-6683-4531-b3ab-d024c04e9afe",
   "metadata": {},
   "outputs": [
    {
     "data": {
      "text/plain": [
       "DeltaGenerator()"
      ]
     },
     "execution_count": 67,
     "metadata": {},
     "output_type": "execute_result"
    }
   ],
   "source": [
    "# Pie chart for value distribution by category\n",
    "st.markdown('#### Value Distribution by Category')\n",
    "\n",
    "pie_chart = px.pie(df_selected_year, values='Value', names='Category', title=\"Value Distribution by Category\",\n",
    "                   color_discrete_sequence=px.colors.sequential.RdBu)\n",
    "pie_chart.update_traces(textinfo='percent+label')\n",
    "st.plotly_chart(pie_chart, use_container_width=True)"
   ]
  },
  {
   "cell_type": "code",
   "execution_count": 69,
   "id": "d1296259-4c7a-47bf-812a-04416f6171d8",
   "metadata": {},
   "outputs": [
    {
     "data": {
      "text/plain": [
       "DeltaGenerator()"
      ]
     },
     "execution_count": 69,
     "metadata": {},
     "output_type": "execute_result"
    }
   ],
   "source": [
    "# Heatmap for transactions by category over time\n",
    "st.markdown('#### Category-Wise Heatmap')\n",
    "\n",
    "heatmap = alt.Chart(df_selected_year).mark_rect().encode(\n",
    "    y=alt.Y('Category:O', axis=alt.Axis(title=\"Category\")),\n",
    "    x=alt.X('Date:T', axis=alt.Axis(title=\"Date\")),\n",
    "    color=alt.Color('Value:Q', scale=alt.Scale(scheme=selected_color_theme)),\n",
    ").properties(width=900, height=300)\n",
    "st.altair_chart(heatmap, use_container_width=True)"
   ]
  },
  {
   "cell_type": "code",
   "execution_count": null,
   "id": "c1d660e9-9324-4555-b687-85add8dd8556",
   "metadata": {},
   "outputs": [],
   "source": []
  }
 ],
 "metadata": {
  "kernelspec": {
   "display_name": "Python 3 (ipykernel)",
   "language": "python",
   "name": "python3"
  },
  "language_info": {
   "codemirror_mode": {
    "name": "ipython",
    "version": 3
   },
   "file_extension": ".py",
   "mimetype": "text/x-python",
   "name": "python",
   "nbconvert_exporter": "python",
   "pygments_lexer": "ipython3",
   "version": "3.12.4"
  }
 },
 "nbformat": 4,
 "nbformat_minor": 5
}
